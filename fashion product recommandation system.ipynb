{
 "cells": [
  {
   "cell_type": "markdown",
   "id": "786928da-0432-46a5-b7cb-cb157a635fb3",
   "metadata": {},
   "source": [
    "# Fashion product recommandation system "
   ]
  },
  {
   "cell_type": "code",
   "execution_count": 1,
   "id": "1271ef2d-3510-423b-a159-6ffb6707605c",
   "metadata": {},
   "outputs": [],
   "source": [
    "import pandas as pd"
   ]
  },
  {
   "cell_type": "code",
   "execution_count": 2,
   "id": "67cec8ba-4344-4fc1-9d08-c43c4d9c1d42",
   "metadata": {},
   "outputs": [],
   "source": [
    "df = pd.read_csv(\"test.csv\")"
   ]
  },
  {
   "cell_type": "code",
   "execution_count": 3,
   "id": "35aa95aa-fe17-4155-b94c-738c3c08245a",
   "metadata": {},
   "outputs": [
    {
     "data": {
      "text/html": [
       "<div>\n",
       "<style scoped>\n",
       "    .dataframe tbody tr th:only-of-type {\n",
       "        vertical-align: middle;\n",
       "    }\n",
       "\n",
       "    .dataframe tbody tr th {\n",
       "        vertical-align: top;\n",
       "    }\n",
       "\n",
       "    .dataframe thead th {\n",
       "        text-align: right;\n",
       "    }\n",
       "</style>\n",
       "<table border=\"1\" class=\"dataframe\">\n",
       "  <thead>\n",
       "    <tr style=\"text-align: right;\">\n",
       "      <th></th>\n",
       "      <th>id</th>\n",
       "      <th>title</th>\n",
       "      <th>Rating</th>\n",
       "      <th>maincateg</th>\n",
       "      <th>platform</th>\n",
       "      <th>actprice1</th>\n",
       "      <th>norating1</th>\n",
       "      <th>noreviews1</th>\n",
       "      <th>star_5f</th>\n",
       "      <th>star_4f</th>\n",
       "      <th>star_3f</th>\n",
       "      <th>star_2f</th>\n",
       "      <th>star_1f</th>\n",
       "      <th>fulfilled1</th>\n",
       "    </tr>\n",
       "  </thead>\n",
       "  <tbody>\n",
       "    <tr>\n",
       "      <th>0</th>\n",
       "      <td>2242</td>\n",
       "      <td>Casuals For Men  (Blue)</td>\n",
       "      <td>3.8</td>\n",
       "      <td>Men</td>\n",
       "      <td>Flipkart</td>\n",
       "      <td>999</td>\n",
       "      <td>27928</td>\n",
       "      <td>3543</td>\n",
       "      <td>14238.0</td>\n",
       "      <td>4295</td>\n",
       "      <td>3457</td>\n",
       "      <td>1962</td>\n",
       "      <td>3976.0</td>\n",
       "      <td>1</td>\n",
       "    </tr>\n",
       "    <tr>\n",
       "      <th>1</th>\n",
       "      <td>20532</td>\n",
       "      <td>Women Black Flats Sandal</td>\n",
       "      <td>3.9</td>\n",
       "      <td>Women</td>\n",
       "      <td>Flipkart</td>\n",
       "      <td>499</td>\n",
       "      <td>3015</td>\n",
       "      <td>404</td>\n",
       "      <td>1458.0</td>\n",
       "      <td>657</td>\n",
       "      <td>397</td>\n",
       "      <td>182</td>\n",
       "      <td>321.0</td>\n",
       "      <td>1</td>\n",
       "    </tr>\n",
       "    <tr>\n",
       "      <th>2</th>\n",
       "      <td>10648</td>\n",
       "      <td>Women Gold Wedges Sandal</td>\n",
       "      <td>3.9</td>\n",
       "      <td>Women</td>\n",
       "      <td>Flipkart</td>\n",
       "      <td>999</td>\n",
       "      <td>449</td>\n",
       "      <td>52</td>\n",
       "      <td>229.0</td>\n",
       "      <td>70</td>\n",
       "      <td>71</td>\n",
       "      <td>33</td>\n",
       "      <td>46.0</td>\n",
       "      <td>1</td>\n",
       "    </tr>\n",
       "    <tr>\n",
       "      <th>3</th>\n",
       "      <td>20677</td>\n",
       "      <td>Men's Height Increasing High Heel Formal Party...</td>\n",
       "      <td>3.9</td>\n",
       "      <td>Men</td>\n",
       "      <td>Flipkart</td>\n",
       "      <td>2999</td>\n",
       "      <td>290</td>\n",
       "      <td>40</td>\n",
       "      <td>141.0</td>\n",
       "      <td>51</td>\n",
       "      <td>49</td>\n",
       "      <td>17</td>\n",
       "      <td>32.0</td>\n",
       "      <td>1</td>\n",
       "    </tr>\n",
       "    <tr>\n",
       "      <th>4</th>\n",
       "      <td>12593</td>\n",
       "      <td>Loafers For Men  (Tan)</td>\n",
       "      <td>3.9</td>\n",
       "      <td>Men</td>\n",
       "      <td>Flipkart</td>\n",
       "      <td>999</td>\n",
       "      <td>2423</td>\n",
       "      <td>326</td>\n",
       "      <td>1265.0</td>\n",
       "      <td>414</td>\n",
       "      <td>293</td>\n",
       "      <td>143</td>\n",
       "      <td>308.0</td>\n",
       "      <td>0</td>\n",
       "    </tr>\n",
       "  </tbody>\n",
       "</table>\n",
       "</div>"
      ],
      "text/plain": [
       "      id                                              title  Rating maincateg  \\\n",
       "0   2242                            Casuals For Men  (Blue)     3.8       Men   \n",
       "1  20532                           Women Black Flats Sandal     3.9     Women   \n",
       "2  10648                           Women Gold Wedges Sandal     3.9     Women   \n",
       "3  20677  Men's Height Increasing High Heel Formal Party...     3.9       Men   \n",
       "4  12593                             Loafers For Men  (Tan)     3.9       Men   \n",
       "\n",
       "   platform  actprice1  norating1  noreviews1  star_5f  star_4f  star_3f  \\\n",
       "0  Flipkart        999      27928        3543  14238.0     4295     3457   \n",
       "1  Flipkart        499       3015         404   1458.0      657      397   \n",
       "2  Flipkart        999        449          52    229.0       70       71   \n",
       "3  Flipkart       2999        290          40    141.0       51       49   \n",
       "4  Flipkart        999       2423         326   1265.0      414      293   \n",
       "\n",
       "   star_2f  star_1f  fulfilled1  \n",
       "0     1962   3976.0           1  \n",
       "1      182    321.0           1  \n",
       "2       33     46.0           1  \n",
       "3       17     32.0           1  \n",
       "4      143    308.0           0  "
      ]
     },
     "execution_count": 3,
     "metadata": {},
     "output_type": "execute_result"
    }
   ],
   "source": [
    "df.head()"
   ]
  },
  {
   "cell_type": "code",
   "execution_count": 4,
   "id": "96b9028f-0481-4da8-b228-3648574f4c40",
   "metadata": {},
   "outputs": [
    {
     "name": "stdout",
     "output_type": "stream",
     "text": [
      "<class 'pandas.core.frame.DataFrame'>\n",
      "RangeIndex: 5244 entries, 0 to 5243\n",
      "Data columns (total 14 columns):\n",
      " #   Column      Non-Null Count  Dtype  \n",
      "---  ------      --------------  -----  \n",
      " 0   id          5244 non-null   int64  \n",
      " 1   title       5244 non-null   object \n",
      " 2   Rating      5041 non-null   float64\n",
      " 3   maincateg   5177 non-null   object \n",
      " 4   platform    5244 non-null   object \n",
      " 5   actprice1   5244 non-null   int64  \n",
      " 6   norating1   5244 non-null   int64  \n",
      " 7   noreviews1  5244 non-null   int64  \n",
      " 8   star_5f     5176 non-null   float64\n",
      " 9   star_4f     5244 non-null   int64  \n",
      " 10  star_3f     5244 non-null   int64  \n",
      " 11  star_2f     5244 non-null   int64  \n",
      " 12  star_1f     5058 non-null   float64\n",
      " 13  fulfilled1  5244 non-null   int64  \n",
      "dtypes: float64(3), int64(8), object(3)\n",
      "memory usage: 573.7+ KB\n"
     ]
    }
   ],
   "source": [
    "df.info()"
   ]
  },
  {
   "cell_type": "code",
   "execution_count": 5,
   "id": "9c770fe7-b6fc-414d-8067-aa5b821c61eb",
   "metadata": {},
   "outputs": [],
   "source": [
    "df.drop(columns = [\"norating1\",\"noreviews1\",\"star_5f\",\"star_4f\",\"star_3f\",\"star_2f\",\"star_1f\",\"fulfilled1\"],inplace = True)\n"
   ]
  },
  {
   "cell_type": "code",
   "execution_count": 6,
   "id": "cd442332-c316-4d3a-b2f9-851d8f7fe50a",
   "metadata": {},
   "outputs": [
    {
     "data": {
      "text/plain": [
       "id             0\n",
       "title          0\n",
       "Rating       203\n",
       "maincateg     67\n",
       "platform       0\n",
       "actprice1      0\n",
       "dtype: int64"
      ]
     },
     "execution_count": 6,
     "metadata": {},
     "output_type": "execute_result"
    }
   ],
   "source": [
    "df.isnull().sum()"
   ]
  },
  {
   "cell_type": "code",
   "execution_count": 7,
   "id": "e16b8104-1545-43e8-a3b1-4f973476431a",
   "metadata": {},
   "outputs": [],
   "source": [
    "df['Rating'].fillna(df['Rating'].median(),inplace=True)"
   ]
  },
  {
   "cell_type": "code",
   "execution_count": 8,
   "id": "f3001264-4407-4b65-a6db-db4870ced6c9",
   "metadata": {},
   "outputs": [],
   "source": [
    "df['maincateg'].fillna(df['maincateg'].mode()[0],inplace=True)"
   ]
  },
  {
   "cell_type": "code",
   "execution_count": 9,
   "id": "98caca99-c031-491b-8594-e378ff701492",
   "metadata": {},
   "outputs": [],
   "source": [
    "df.rename(columns={\"maincateg\": \"category\"},inplace=True)"
   ]
  },
  {
   "cell_type": "code",
   "execution_count": 10,
   "id": "617ba518-b0b7-4c8f-93f5-d9c7b2e459f3",
   "metadata": {},
   "outputs": [],
   "source": [
    "df.rename(columns={\"title\": \"product\"},inplace=True)"
   ]
  },
  {
   "cell_type": "code",
   "execution_count": 11,
   "id": "bcb17d43-14bb-4587-ad86-7d06b1705533",
   "metadata": {},
   "outputs": [],
   "source": [
    "df.rename(columns={\"actprice1\": \"price\"},inplace=True)"
   ]
  },
  {
   "cell_type": "code",
   "execution_count": 12,
   "id": "1109e823-4f99-4cd0-a08e-03e544839163",
   "metadata": {},
   "outputs": [
    {
     "data": {
      "text/html": [
       "<div>\n",
       "<style scoped>\n",
       "    .dataframe tbody tr th:only-of-type {\n",
       "        vertical-align: middle;\n",
       "    }\n",
       "\n",
       "    .dataframe tbody tr th {\n",
       "        vertical-align: top;\n",
       "    }\n",
       "\n",
       "    .dataframe thead th {\n",
       "        text-align: right;\n",
       "    }\n",
       "</style>\n",
       "<table border=\"1\" class=\"dataframe\">\n",
       "  <thead>\n",
       "    <tr style=\"text-align: right;\">\n",
       "      <th></th>\n",
       "      <th>id</th>\n",
       "      <th>product</th>\n",
       "      <th>Rating</th>\n",
       "      <th>category</th>\n",
       "      <th>platform</th>\n",
       "      <th>price</th>\n",
       "    </tr>\n",
       "  </thead>\n",
       "  <tbody>\n",
       "    <tr>\n",
       "      <th>0</th>\n",
       "      <td>2242</td>\n",
       "      <td>Casuals For Men  (Blue)</td>\n",
       "      <td>3.8</td>\n",
       "      <td>Men</td>\n",
       "      <td>Flipkart</td>\n",
       "      <td>999</td>\n",
       "    </tr>\n",
       "    <tr>\n",
       "      <th>1</th>\n",
       "      <td>20532</td>\n",
       "      <td>Women Black Flats Sandal</td>\n",
       "      <td>3.9</td>\n",
       "      <td>Women</td>\n",
       "      <td>Flipkart</td>\n",
       "      <td>499</td>\n",
       "    </tr>\n",
       "    <tr>\n",
       "      <th>2</th>\n",
       "      <td>10648</td>\n",
       "      <td>Women Gold Wedges Sandal</td>\n",
       "      <td>3.9</td>\n",
       "      <td>Women</td>\n",
       "      <td>Flipkart</td>\n",
       "      <td>999</td>\n",
       "    </tr>\n",
       "    <tr>\n",
       "      <th>3</th>\n",
       "      <td>20677</td>\n",
       "      <td>Men's Height Increasing High Heel Formal Party...</td>\n",
       "      <td>3.9</td>\n",
       "      <td>Men</td>\n",
       "      <td>Flipkart</td>\n",
       "      <td>2999</td>\n",
       "    </tr>\n",
       "    <tr>\n",
       "      <th>4</th>\n",
       "      <td>12593</td>\n",
       "      <td>Loafers For Men  (Tan)</td>\n",
       "      <td>3.9</td>\n",
       "      <td>Men</td>\n",
       "      <td>Flipkart</td>\n",
       "      <td>999</td>\n",
       "    </tr>\n",
       "  </tbody>\n",
       "</table>\n",
       "</div>"
      ],
      "text/plain": [
       "      id                                            product  Rating category  \\\n",
       "0   2242                            Casuals For Men  (Blue)     3.8      Men   \n",
       "1  20532                           Women Black Flats Sandal     3.9    Women   \n",
       "2  10648                           Women Gold Wedges Sandal     3.9    Women   \n",
       "3  20677  Men's Height Increasing High Heel Formal Party...     3.9      Men   \n",
       "4  12593                             Loafers For Men  (Tan)     3.9      Men   \n",
       "\n",
       "   platform  price  \n",
       "0  Flipkart    999  \n",
       "1  Flipkart    499  \n",
       "2  Flipkart    999  \n",
       "3  Flipkart   2999  \n",
       "4  Flipkart    999  "
      ]
     },
     "execution_count": 12,
     "metadata": {},
     "output_type": "execute_result"
    }
   ],
   "source": [
    "df.head()"
   ]
  },
  {
   "cell_type": "code",
   "execution_count": 13,
   "id": "18fb111c-6461-4626-87d1-50ba6da632c9",
   "metadata": {},
   "outputs": [],
   "source": [
    "df.drop(columns = [\"platform\"],inplace = True)"
   ]
  },
  {
   "cell_type": "code",
   "execution_count": 14,
   "id": "1f55924a-1427-4d1f-bf71-de49528e56e8",
   "metadata": {},
   "outputs": [
    {
     "data": {
      "text/plain": [
       "(5244, 5)"
      ]
     },
     "execution_count": 14,
     "metadata": {},
     "output_type": "execute_result"
    }
   ],
   "source": [
    "df.shape"
   ]
  },
  {
   "cell_type": "code",
   "execution_count": 15,
   "id": "90cdd082-b8ed-4169-809c-d71d85b1d942",
   "metadata": {},
   "outputs": [
    {
     "data": {
      "text/plain": [
       "0"
      ]
     },
     "execution_count": 15,
     "metadata": {},
     "output_type": "execute_result"
    }
   ],
   "source": [
    "df.duplicated().sum()"
   ]
  },
  {
   "cell_type": "code",
   "execution_count": 16,
   "id": "848f3f30-d712-4da7-acbf-6e4825c791ee",
   "metadata": {},
   "outputs": [
    {
     "data": {
      "text/plain": [
       "array(['Casuals For Men\\xa0\\xa0(Blue)', 'Women Black Flats Sandal',\n",
       "       'Women Gold Wedges Sandal', ...,\n",
       "       'AA001 Boots For Men\\xa0\\xa0(Black)',\n",
       "       \"Women Girl's Fashion Trendy Comfortable Slip On Sneakers For Women\\xa0\\xa0(Green)\",\n",
       "       'Womens Casual Comfort Stylish Black High Heel With Silver Strap Flip Flops'],\n",
       "      dtype=object)"
      ]
     },
     "execution_count": 16,
     "metadata": {},
     "output_type": "execute_result"
    }
   ],
   "source": [
    "df[\"product\"].unique()"
   ]
  },
  {
   "cell_type": "code",
   "execution_count": 17,
   "id": "5777a2a8-25b2-4159-b3f7-3c27bcd54d58",
   "metadata": {},
   "outputs": [],
   "source": [
    "df['Product_summary'] = df['category'] + ' ' + df['product']"
   ]
  },
  {
   "cell_type": "code",
   "execution_count": 18,
   "id": "58ee7591-5c00-4e10-bdf0-9d03f6162b40",
   "metadata": {},
   "outputs": [
    {
     "data": {
      "text/html": [
       "<div>\n",
       "<style scoped>\n",
       "    .dataframe tbody tr th:only-of-type {\n",
       "        vertical-align: middle;\n",
       "    }\n",
       "\n",
       "    .dataframe tbody tr th {\n",
       "        vertical-align: top;\n",
       "    }\n",
       "\n",
       "    .dataframe thead th {\n",
       "        text-align: right;\n",
       "    }\n",
       "</style>\n",
       "<table border=\"1\" class=\"dataframe\">\n",
       "  <thead>\n",
       "    <tr style=\"text-align: right;\">\n",
       "      <th></th>\n",
       "      <th>id</th>\n",
       "      <th>product</th>\n",
       "      <th>Rating</th>\n",
       "      <th>category</th>\n",
       "      <th>price</th>\n",
       "      <th>Product_summary</th>\n",
       "    </tr>\n",
       "  </thead>\n",
       "  <tbody>\n",
       "    <tr>\n",
       "      <th>0</th>\n",
       "      <td>2242</td>\n",
       "      <td>Casuals For Men  (Blue)</td>\n",
       "      <td>3.8</td>\n",
       "      <td>Men</td>\n",
       "      <td>999</td>\n",
       "      <td>Men Casuals For Men  (Blue)</td>\n",
       "    </tr>\n",
       "  </tbody>\n",
       "</table>\n",
       "</div>"
      ],
      "text/plain": [
       "     id                  product  Rating category  price  \\\n",
       "0  2242  Casuals For Men  (Blue)     3.8      Men    999   \n",
       "\n",
       "               Product_summary  \n",
       "0  Men Casuals For Men  (Blue)  "
      ]
     },
     "execution_count": 18,
     "metadata": {},
     "output_type": "execute_result"
    }
   ],
   "source": [
    "df.head(1)"
   ]
  },
  {
   "cell_type": "code",
   "execution_count": 19,
   "id": "f08d23da-1e24-4ffc-a82d-60a2edbd925f",
   "metadata": {},
   "outputs": [
    {
     "data": {
      "text/plain": [
       "0                             Men Casuals For Men  (Blue)\n",
       "1                          Women Women Black Flats Sandal\n",
       "2                          Women Women Gold Wedges Sandal\n",
       "3       Men Men's Height Increasing High Heel Formal P...\n",
       "4                              Men Loafers For Men  (Tan)\n",
       "                              ...                        \n",
       "5239                   Women Women Off White Flats Sandal\n",
       "5240                           Men Slip On For Men  (Tan)\n",
       "5241                        Women Women Grey Heels Sandal\n",
       "5242    Women Womens Casual Comfort Stylish Black High...\n",
       "5243    Women ZAPATOZ Women's Casual PU Leather Sneake...\n",
       "Name: Product_summary, Length: 5244, dtype: object"
      ]
     },
     "execution_count": 19,
     "metadata": {},
     "output_type": "execute_result"
    }
   ],
   "source": [
    "df[\"Product_summary\"]"
   ]
  },
  {
   "cell_type": "code",
   "execution_count": 20,
   "id": "967d0f2a-2709-4a30-a232-8911f6836e67",
   "metadata": {},
   "outputs": [],
   "source": [
    "from sklearn.feature_extraction.text import CountVectorizer\n",
    "import numpy as np \n",
    "import nltk"
   ]
  },
  {
   "cell_type": "code",
   "execution_count": 23,
   "id": "97f7ecd7-0b1a-4bd4-8d4e-39b8368a93af",
   "metadata": {},
   "outputs": [],
   "source": [
    "from nltk.stem.porter import PorterStemmer"
   ]
  },
  {
   "cell_type": "code",
   "execution_count": 24,
   "id": "462e2097-fe42-49f9-8a77-cae148da6542",
   "metadata": {},
   "outputs": [],
   "source": [
    "def stem_text(text):\n",
    "    ps = PorterStemmer()\n",
    "    y = []\n",
    "    for word in text.split():\n",
    "     \n",
    "        stemmed_word = ps.stem(word)\n",
    "  \n",
    "        y.append(stemmed_word)\n",
    "\n",
    "    stemmed_text = ' '.join(y)\n",
    "    \n",
    "    return stemmed_text"
   ]
  },
  {
   "cell_type": "code",
   "execution_count": 25,
   "id": "44276010-18cd-4649-8616-edd07b7fc16f",
   "metadata": {},
   "outputs": [
    {
     "name": "stdout",
     "output_type": "stream",
     "text": [
      "run eat jump\n"
     ]
    }
   ],
   "source": [
    "# Example usage:\n",
    "text = \"running eating jumped\"\n",
    "stemmed_text = stem_text(text)\n",
    "print(stemmed_text)"
   ]
  },
  {
   "cell_type": "code",
   "execution_count": 26,
   "id": "f27b7f59-55f1-4ae2-87e4-884614063ef0",
   "metadata": {},
   "outputs": [],
   "source": [
    "df[\"Product_summary\"] = df[\"Product_summary\"].apply(stem_text)"
   ]
  },
  {
   "cell_type": "code",
   "execution_count": 27,
   "id": "31ea7079-a1dc-46aa-9004-c67ddcbedf14",
   "metadata": {},
   "outputs": [],
   "source": [
    "cv = CountVectorizer()"
   ]
  },
  {
   "cell_type": "code",
   "execution_count": 28,
   "id": "99ca31fb-370c-43df-a598-cd3bb85a13fd",
   "metadata": {},
   "outputs": [],
   "source": [
    "Vectors= cv.fit_transform(df[\"Product_summary\"]).toarray()"
   ]
  },
  {
   "cell_type": "code",
   "execution_count": 29,
   "id": "78388e60-6fdd-4a1a-9f44-2a395e8392aa",
   "metadata": {},
   "outputs": [
    {
     "data": {
      "text/plain": [
       "array([[0, 0, 0, ..., 0, 0, 0],\n",
       "       [0, 0, 0, ..., 0, 0, 0],\n",
       "       [0, 0, 0, ..., 0, 0, 0],\n",
       "       ...,\n",
       "       [0, 0, 0, ..., 0, 0, 0],\n",
       "       [0, 0, 0, ..., 0, 0, 0],\n",
       "       [0, 0, 0, ..., 0, 0, 0]], dtype=int64)"
      ]
     },
     "execution_count": 29,
     "metadata": {},
     "output_type": "execute_result"
    }
   ],
   "source": [
    "Vectors"
   ]
  },
  {
   "cell_type": "code",
   "execution_count": 30,
   "id": "0a5350cc-bdce-41fc-bde6-fb4122e9b3a6",
   "metadata": {},
   "outputs": [
    {
     "data": {
      "text/plain": [
       "(5244, 1449)"
      ]
     },
     "execution_count": 30,
     "metadata": {},
     "output_type": "execute_result"
    }
   ],
   "source": [
    "Vectors.shape"
   ]
  },
  {
   "cell_type": "code",
   "execution_count": 31,
   "id": "e3ea0024-5558-409b-b36c-70ffe594a845",
   "metadata": {},
   "outputs": [],
   "source": [
    "from sklearn.metrics.pairwise import cosine_similarity"
   ]
  },
  {
   "cell_type": "code",
   "execution_count": 32,
   "id": "168eeb54-70a4-41fb-9ed6-ee5335f1a1a0",
   "metadata": {},
   "outputs": [],
   "source": [
    "similarity = cosine_similarity(Vectors)"
   ]
  },
  {
   "cell_type": "code",
   "execution_count": 33,
   "id": "8d0c6764-8ec2-4af2-b7b5-dd89801e9b63",
   "metadata": {},
   "outputs": [],
   "source": [
    "from nltk.stem.porter import PorterStemmer"
   ]
  },
  {
   "cell_type": "code",
   "execution_count": 34,
   "id": "36128c70-fe99-4f99-b6e8-5e01b728fdc3",
   "metadata": {},
   "outputs": [],
   "source": [
    "Vectors= cv.fit_transform(df[\"Product_summary\"]).toarray()"
   ]
  },
  {
   "cell_type": "code",
   "execution_count": 35,
   "id": "a521577d-0838-42e3-b9aa-d2425fa7efeb",
   "metadata": {},
   "outputs": [],
   "source": [
    "similarity=cosine_similarity (Vectors)"
   ]
  },
  {
   "cell_type": "code",
   "execution_count": 36,
   "id": "1fd9936b-9b4c-4129-a990-d871457a661c",
   "metadata": {},
   "outputs": [
    {
     "data": {
      "text/plain": [
       "array([1.        , 0.        , 0.        , ..., 0.        , 0.09759001,\n",
       "       0.11952286])"
      ]
     },
     "execution_count": 36,
     "metadata": {},
     "output_type": "execute_result"
    }
   ],
   "source": [
    "similarity[0]"
   ]
  },
  {
   "cell_type": "code",
   "execution_count": 37,
   "id": "1e17b98e-c96f-429c-b9d7-2bf2e2ab7cf8",
   "metadata": {},
   "outputs": [
    {
     "data": {
      "text/plain": [
       "[(3190, 0.9999999999999998),\n",
       " (297, 0.9561828874675149),\n",
       " (3592, 0.9354143466934852),\n",
       " (4005, 0.9354143466934852),\n",
       " (970, 0.9296696802013682)]"
      ]
     },
     "execution_count": 37,
     "metadata": {},
     "output_type": "execute_result"
    }
   ],
   "source": [
    "sorted(list(enumerate(similarity[0])),reverse=True,key=lambda x:x[1])[1:6]"
   ]
  },
  {
   "cell_type": "code",
   "execution_count": 38,
   "id": "c4bc1778-a46c-48ce-ab81-64c34bbcbbd0",
   "metadata": {},
   "outputs": [],
   "source": [
    "def recommend(product):\n",
    "    product_index = df[df['product'] == product].index[0]\n",
    "    distances = similarity[product_index]\n",
    "    product_list = sorted(list(enumerate(distances)), reverse=True, key=lambda x: x[1])[1:6]\n",
    "\n",
    "    for i in product_list:\n",
    "        print(df.iloc[i[0]].product)"
   ]
  },
  {
   "cell_type": "code",
   "execution_count": 39,
   "id": "00fe27f9-0e79-44dd-83a9-374e49e055ea",
   "metadata": {},
   "outputs": [
    {
     "name": "stdout",
     "output_type": "stream",
     "text": [
      "<bound method Series.prod of id                                         7382\n",
      "product                Women Gold Wedges Sandal\n",
      "Rating                                      3.8\n",
      "category                                  Women\n",
      "price                                      1199\n",
      "Product_summary    women women gold wedg sandal\n",
      "Name: 507, dtype: object>\n",
      "<bound method Series.prod of id                                         2224\n",
      "product                Women Gold Wedges Sandal\n",
      "Rating                                      3.8\n",
      "category                                  Women\n",
      "price                                       599\n",
      "Product_summary    women women gold wedg sandal\n",
      "Name: 623, dtype: object>\n",
      "<bound method Series.prod of id                                        16459\n",
      "product                Women Gold Wedges Sandal\n",
      "Rating                                      3.9\n",
      "category                                  Women\n",
      "price                                       499\n",
      "Product_summary    women women gold wedg sandal\n",
      "Name: 868, dtype: object>\n",
      "<bound method Series.prod of id                                        13801\n",
      "product                Women Gold Wedges Sandal\n",
      "Rating                                      3.8\n",
      "category                                  Women\n",
      "price                                      1690\n",
      "Product_summary    women women gold wedg sandal\n",
      "Name: 1003, dtype: object>\n",
      "<bound method Series.prod of id                                        20034\n",
      "product                Women Gold Wedges Sandal\n",
      "Rating                                      3.9\n",
      "category                                  Women\n",
      "price                                       999\n",
      "Product_summary    women women gold wedg sandal\n",
      "Name: 1090, dtype: object>\n"
     ]
    }
   ],
   "source": [
    "recommend(\"Women Gold Wedges Sandal\")"
   ]
  },
  {
   "cell_type": "code",
   "execution_count": 40,
   "id": "99fb19eb-6857-4ff1-9cf0-2a030acc39da",
   "metadata": {},
   "outputs": [
    {
     "data": {
      "text/plain": [
       "0                                 Casuals For Men  (Blue)\n",
       "1                                Women Black Flats Sandal\n",
       "2                                Women Gold Wedges Sandal\n",
       "3       Men's Height Increasing High Heel Formal Party...\n",
       "4                                  Loafers For Men  (Tan)\n",
       "                              ...                        \n",
       "5239                         Women Off White Flats Sandal\n",
       "5240                               Slip On For Men  (Tan)\n",
       "5241                              Women Grey Heels Sandal\n",
       "5242    Womens Casual Comfort Stylish Black High Heel ...\n",
       "5243      ZAPATOZ Women's Casual PU Leather Sneaker Shoes\n",
       "Name: product, Length: 5244, dtype: object"
      ]
     },
     "execution_count": 40,
     "metadata": {},
     "output_type": "execute_result"
    }
   ],
   "source": [
    "df[\"product\"]"
   ]
  },
  {
   "cell_type": "code",
   "execution_count": 65,
   "id": "40d9f6c5-e09c-4122-b5b8-c012c15cd4b5",
   "metadata": {},
   "outputs": [],
   "source": [
    "import pickle"
   ]
  },
  {
   "cell_type": "code",
   "execution_count": 67,
   "id": "52c05fe1-b0ae-4cb6-8166-3290aeb3df10",
   "metadata": {},
   "outputs": [],
   "source": [
    "with open('similarity.pkl', 'wb') as f: \n",
    "    pickle.dump(similarity, f)"
   ]
  },
  {
   "cell_type": "code",
   "execution_count": 68,
   "id": "fc66ddda-3312-4bb0-aba7-96e1c8b204a6",
   "metadata": {},
   "outputs": [],
   "source": [
    "with open('df.pkl', 'wb') as f: \n",
    "    pickle.dump(df, f)"
   ]
  },
  {
   "cell_type": "code",
   "execution_count": null,
   "id": "e5f33647-97da-44b2-8135-fdec31b8792e",
   "metadata": {},
   "outputs": [],
   "source": []
  }
 ],
 "metadata": {
  "kernelspec": {
   "display_name": "Python 3 (ipykernel)",
   "language": "python",
   "name": "python3"
  },
  "language_info": {
   "codemirror_mode": {
    "name": "ipython",
    "version": 3
   },
   "file_extension": ".py",
   "mimetype": "text/x-python",
   "name": "python",
   "nbconvert_exporter": "python",
   "pygments_lexer": "ipython3",
   "version": "3.11.7"
  }
 },
 "nbformat": 4,
 "nbformat_minor": 5
}
